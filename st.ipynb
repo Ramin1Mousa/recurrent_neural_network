{
 "cells": [
  {
   "cell_type": "code",
   "execution_count": 1,
   "metadata": {},
   "outputs": [
    {
     "name": "stdout",
     "output_type": "stream",
     "text": [
      "################################################################################\n",
      "\n",
      "Reading Train 60000.cdb ...\n"
     ]
    }
   ],
   "source": [
    "# *-* coding: utf-8 *-*\n",
    "\n",
    "from matplotlib import pyplot as plt\n",
    "from HodaDatasetReader import read_hoda_cdb, read_hoda_dataset\n",
    "\n",
    "print('################################################################################')\n",
    "print()\n",
    "\n",
    "\n",
    "\n",
    "\n",
    "# type(train_images):  <class 'list'>\n",
    "# len(train_images):  60000\n",
    "#\n",
    "# type(train_images[ i ]): <class 'numpy.ndarray'>\n",
    "# train_images[ i ].dtype: uint8\n",
    "# train_images[ i ].min(): 0\n",
    "# train_images[ i ].max(): 255\n",
    "# train_images[ i ].shape: (HEIGHT, WIDTH)\n",
    "#\n",
    "# type(train_labels):  <class 'list'>\n",
    "# len(train_labels):  60000\n",
    "#\n",
    "# type(train_labels[ i ]): <class 'int'>\n",
    "# train_labels[ i ]: 0...9\n",
    "print('Reading Train 60000.cdb ...')\n",
    "train_images, train_labels = read_hoda_cdb('Train 60000.cdb')\n",
    "\n"
   ]
  },
  {
   "cell_type": "code",
   "execution_count": 2,
   "metadata": {},
   "outputs": [
    {
     "name": "stdout",
     "output_type": "stream",
     "text": [
      "Reading Test 20000.cdb ...\n",
      "Reading RemainingSamples.cdb ...\n",
      "\n",
      "type(train_images):  <class 'list'>\n",
      "len(train_images):  60000\n",
      "\n",
      "type(train_labels):  <class 'list'>\n",
      "len(train_labels):  60000\n",
      "\n"
     ]
    }
   ],
   "source": [
    "print('Reading Test 20000.cdb ...')\n",
    "test_images, test_labels = read_hoda_cdb('Test 20000.cdb')\n",
    "\n",
    "\n",
    "# type(remaining_images):  <class 'list'>\n",
    "# len(remaining_images):  22352\n",
    "#\n",
    "# type(remaining_images[ i ]): <class 'numpy.ndarray'>\n",
    "# remaining_images[ i ].dtype: uint8\n",
    "# remaining_images[ i ].min(): 0\n",
    "# remaining_images[ i ].max(): 255\n",
    "# remaining_images[ i ].shape: (HEIGHT, WIDTH)\n",
    "#\n",
    "# type(remaining_labels):  <class 'list'>\n",
    "# len(remaining_labels):  22352\n",
    "#\n",
    "# type(remaining_labels[ i ]): <class 'int'>\n",
    "# remaining_labels[ i ]: 0...9\n",
    "print('Reading RemainingSamples.cdb ...')\n",
    "remaining_images, remaining_labels = read_hoda_cdb('RemainingSamples.cdb')\n",
    "\n",
    "print()\n",
    "\n",
    "# ******************************************************************************\n",
    "\n",
    "print('type(train_images): ', type(train_images))\n",
    "print('len(train_images): ', len(train_images))\n",
    "print()\n",
    "\n",
    "print('type(train_labels): ', type(train_labels))\n",
    "print('len(train_labels): ', len(train_labels))\n",
    "print()"
   ]
  },
  {
   "cell_type": "code",
   "execution_count": 5,
   "metadata": {},
   "outputs": [
    {
     "name": "stdout",
     "output_type": "stream",
     "text": [
      "----------------------------------------\n",
      "\n",
      "type(train_images[ 0 ]): <class 'numpy.ndarray'>\n",
      "train_images[ 0 ].dtype: uint8\n",
      "train_images[ 0 ].min(): 0\n",
      "train_images[ 0 ].max(): 255\n",
      "train_images[ 0 ].shape = (HEIGHT, WIDTH): (27, 20)\n",
      "\n",
      "type(train_labels[ 0 ]): <class 'int'>\n",
      "train_labels[ 0 ]: 6\n",
      "\n",
      "----------------------------------------\n",
      "\n",
      "type(train_images[ 1 ]): <class 'numpy.ndarray'>\n",
      "train_images[ 1 ].dtype: uint8\n",
      "train_images[ 1 ].min(): 0\n",
      "train_images[ 1 ].max(): 255\n",
      "train_images[ 1 ].shape = (HEIGHT, WIDTH): (20, 21)\n",
      "\n",
      "type(train_labels[ 1 ]): <class 'int'>\n",
      "train_labels[ 1 ]: 5\n",
      "\n",
      "----------------------------------------\n",
      "\n",
      "type(train_images[ 2 ]): <class 'numpy.ndarray'>\n",
      "train_images[ 2 ].dtype: uint8\n",
      "train_images[ 2 ].min(): 0\n",
      "train_images[ 2 ].max(): 255\n",
      "train_images[ 2 ].shape = (HEIGHT, WIDTH): (10, 15)\n",
      "\n",
      "type(train_labels[ 2 ]): <class 'int'>\n",
      "train_labels[ 2 ]: 0\n",
      "\n",
      "----------------------------------------\n",
      "\n",
      "type(train_images[ 3 ]): <class 'numpy.ndarray'>\n",
      "train_images[ 3 ].dtype: uint8\n",
      "train_images[ 3 ].min(): 0\n",
      "train_images[ 3 ].max(): 255\n",
      "train_images[ 3 ].shape = (HEIGHT, WIDTH): (36, 17)\n",
      "\n",
      "type(train_labels[ 3 ]): <class 'int'>\n",
      "train_labels[ 3 ]: 2\n",
      "\n"
     ]
    },
    {
     "data": {
      "image/png": "[encoded data removed]",
      "text/plain": [
       "<Figure size 1080x288 with 4 Axes>"
      ]
     },
     "metadata": {},
     "output_type": "display_data"
    },
    {
     "name": "stdout",
     "output_type": "stream",
     "text": [
      "################################################################################\n",
      "\n",
      "Reading train dataset (Train 60000.cdb)...\n",
      "Reading test dataset (Test 20000.cdb)...\n"
     ]
    }
   ],
   "source": [
    "fig = plt.figure(figsize=(15, 4))\n",
    "for i in range(4):\n",
    "\n",
    "    print('----------------------------------------')\n",
    "    print()\n",
    "\n",
    "    print('type(train_images[', i, ']):', type(train_images[i]))\n",
    "    print('train_images[', i, '].dtype:', train_images[i].dtype)\n",
    "    print('train_images[', i, '].min():', train_images[i].min())\n",
    "    print('train_images[', i, '].max():', train_images[i].max())\n",
    "    print('train_images[', i, '].shape = (HEIGHT, WIDTH):', train_images[i].shape)\n",
    "    print()\n",
    "\n",
    "    print('type(train_labels[', i, ']):', type(train_labels[i]))\n",
    "    print('train_labels[', i, ']:', train_labels[i])\n",
    "    print()\n",
    "\n",
    "    fig.add_subplot(1, 4, i + 1)\n",
    "    plt.title('train_labels[' + str(i) + '] = ' + str(train_labels[i]))\n",
    "    plt.imshow(train_images[i], cmap='gray')\n",
    "\n",
    "plt.show()\n",
    "\n",
    "print('################################################################################')\n",
    "print()\n",
    "\n",
    "# type(X_train):  <class 'numpy.ndarray'>\n",
    "# X_train.dtype: float32\n",
    "# X_train.shape: (reshape=True),  (60000, 1024)\n",
    "#\n",
    "# type(X_train[ i ]): <class 'numpy.ndarray'>\n",
    "# X_train[ i ].dtype: float32\n",
    "# X_train[ i ].min(): 0.0\n",
    "# X_train[ i ].max(): 1.0\n",
    "# X_train[ i ].shape = (HEIGHT*WIDTH,): (reshape=True),  (1024,)\n",
    "#\n",
    "# type(Y_train):  <class 'numpy.ndarray'>\n",
    "# Y_train.dtype: float32\n",
    "# Y_train.shape: (one_hot=False),  (60000,)\n",
    "#\n",
    "# type(Y_train[ i ]): <class 'numpy.float32'>\n",
    "# Y_train[ i ].dtype: float32\n",
    "# Y_train[ i ]: (one_hot=False),  0...9\n",
    "print('Reading train dataset (Train 60000.cdb)...')\n",
    "X_train, Y_train = read_hoda_dataset(dataset_path='Train 60000.cdb',\n",
    "                                images_height=32,\n",
    "                                images_width=32,\n",
    "                                one_hot=False,\n",
    "                                reshape=True)\n",
    "\n",
    "\n",
    "# type(X_test):  <class 'numpy.ndarray'>\n",
    "# X_test.dtype: float32\n",
    "# X_test.shape: (reshape=False),  (20000, 32, 32, 1)\n",
    "#\n",
    "# type(X_test[ i ]): <class 'numpy.ndarray'>\n",
    "# X_test[ i ].dtype: float32\n",
    "# X_test[ i ].min(): 0.0\n",
    "# X_test[ i ].max(): 1.0\n",
    "# X_test[ i ].shape = (HEIGHT, WIDTH, CHANNEL): (reshape=False),  (32, 32, 1)\n",
    "#\n",
    "# type(Y_test):  <class 'numpy.ndarray'>\n",
    "# Y_test.dtype: float32\n",
    "# Y_test.shape: (one_hot=True),  (20000, 10)\n",
    "#\n",
    "# type(Y_test[ i ]): <class 'numpy.ndarray'>\n",
    "# Y_test[ i ].dtype: float32\n",
    "# Y_test[ i ].min(): 0.0\n",
    "# Y_test[ i ].max(): 1.0\n",
    "# Y_test[ 0 ]: (one_hot=True),  [1. 0. 0. 0. 0. 0. 0. 0. 0. 0.]\n",
    "print('Reading test dataset (Test 20000.cdb)...')\n",
    "X_test, Y_test = read_hoda_dataset(dataset_path='Test 20000.cdb',\n",
    "                              images_height=32,\n",
    "                              images_width=32,\n",
    "                              one_hot=True,\n",
    "                              reshape=False)\n"
   ]
  },
  {
   "cell_type": "code",
   "execution_count": 7,
   "metadata": {},
   "outputs": [
    {
     "name": "stdout",
     "output_type": "stream",
     "text": [
      "Reading remaining samples dataset (RemainingSamples.cdb)...\n",
      "\n",
      "type(X_train):  <class 'numpy.ndarray'>\n",
      "X_train.dtype: float32\n",
      "X_train.shape: (reshape=True),  (60000, 1024)\n",
      "\n",
      "type(Y_train):  <class 'numpy.ndarray'>\n",
      "Y_train.dtype: float32\n",
      "Y_train.shape: (one_hot=False),  (60000,)\n",
      "\n",
      "type(X_test):  <class 'numpy.ndarray'>\n",
      "X_test.dtype: float32\n",
      "X_test.shape: (reshape=False),  (20000, 32, 32, 1)\n",
      "\n",
      "type(Y_test):  <class 'numpy.ndarray'>\n",
      "Y_test.dtype: float32\n",
      "Y_test.shape: (one_hot=True),  (20000, 10)\n",
      "\n",
      "type(X_remaining):  <class 'numpy.ndarray'>\n",
      "X_remaining.dtype: float32\n",
      "X_remaining.shape: (reshape=True),  (22352, 1024)\n",
      "\n",
      "type(Y_remaining):  <class 'numpy.ndarray'>\n",
      "Y_remaining.dtype: float32\n",
      "Y_remaining.shape: (one_hot=True),  (22352, 10)\n",
      "\n",
      "----------------------------------------\n",
      "\n"
     ]
    },
    {
     "data": {
      "text/plain": [
       "<Figure size 1152x216 with 0 Axes>"
      ]
     },
     "metadata": {},
     "output_type": "display_data"
    }
   ],
   "source": [
    "print('Reading remaining samples dataset (RemainingSamples.cdb)...')\n",
    "X_remaining, Y_remaining = read_hoda_dataset('RemainingSamples.cdb',\n",
    "                                             images_height=32,\n",
    "                                             images_width=32,\n",
    "                                             one_hot=True,\n",
    "                                             reshape=True)\n",
    "\n",
    "print()\n",
    "\n",
    "# ******************************************************************************\n",
    "\n",
    "print('type(X_train): ', type(X_train))\n",
    "print('X_train.dtype:', X_train.dtype)\n",
    "print('X_train.shape: (reshape=True), ', X_train.shape)\n",
    "print()\n",
    "\n",
    "print('type(Y_train): ', type(Y_train))\n",
    "print('Y_train.dtype:', Y_train.dtype)\n",
    "print('Y_train.shape: (one_hot=False), ', Y_train.shape)\n",
    "print()\n",
    "\n",
    "print('type(X_test): ', type(X_test))\n",
    "print('X_test.dtype:', X_test.dtype)\n",
    "print('X_test.shape: (reshape=False), ', X_test.shape)\n",
    "print()\n",
    "\n",
    "print('type(Y_test): ', type(Y_test))\n",
    "print('Y_test.dtype:', Y_test.dtype)\n",
    "print('Y_test.shape: (one_hot=True), ', Y_test.shape)\n",
    "print()\n",
    "\n",
    "print('type(X_remaining): ', type(X_remaining))\n",
    "print('X_remaining.dtype:', X_remaining.dtype)\n",
    "print('X_remaining.shape: (reshape=True), ', X_remaining.shape)\n",
    "print()\n",
    "\n",
    "print('type(Y_remaining): ', type(Y_remaining))\n",
    "print('Y_remaining.dtype:', Y_remaining.dtype)\n",
    "print('Y_remaining.shape: (one_hot=True), ', Y_remaining.shape)\n",
    "print()\n",
    "\n"
   ]
  },
  {
   "cell_type": "code",
   "execution_count": 14,
   "metadata": {},
   "outputs": [
    {
     "name": "stderr",
     "output_type": "stream",
     "text": [
      "/home/raminm/anaconda3/envs/tensorflow/lib/python3.6/site-packages/matplotlib/figure.py:457: UserWarning: matplotlib is currently using a non-GUI backend, so cannot show the figure\n",
      "  \"matplotlib is currently using a non-GUI backend, \"\n"
     ]
    },
    {
     "data": {
      "text/plain": [
       "<Figure size 1152x216 with 0 Axes>"
      ]
     },
     "metadata": {},
     "output_type": "display_data"
    }
   ],
   "source": [
    "fig = plt.figure(figsize=(16, 3))\n",
    "fig.show()\n"
   ]
  },
  {
   "cell_type": "code",
   "execution_count": 8,
   "metadata": {},
   "outputs": [
    {
     "name": "stdout",
     "output_type": "stream",
     "text": [
      "type(X_train[ 0 ]): <class 'numpy.ndarray'>\n",
      "X_train[ 0 ].dtype: float32\n",
      "X_train[ 0 ].min(): 0.0\n",
      "X_train[ 0 ].max(): 1.0\n",
      "X_train[ 0 ].shape = (HEIGHT*WIDTH,): (reshape=True),  (1024,)\n",
      "\n",
      "type(Y_train[ 0 ]): <class 'numpy.float32'>\n",
      "Y_train[ 0 ].dtype: float32\n",
      "Y_train[ 0 ]: (one_hot=False),  6.0\n",
      "\n",
      "----------------------------------------\n",
      "\n",
      "type(X_test[ 0 ]): <class 'numpy.ndarray'>\n",
      "X_test[ 0 ].dtype: float32\n",
      "X_test[ 0 ].min(): 0.0\n",
      "X_test[ 0 ].max(): 1.0\n",
      "X_test[ 0 ].shape = (HEIGHT, WIDTH, CHANNEL): (reshape=False),  (32, 32, 1)\n",
      "\n",
      "type(Y_test[ 0 ]): <class 'numpy.ndarray'>\n",
      "Y_test[ 0 ].dtype: float32\n",
      "Y_test[ 0 ].min(): 0.0\n",
      "Y_test[ 0 ].max(): 1.0\n",
      "Y_test[ 0 ]: (one_hot=True),  [1. 0. 0. 0. 0. 0. 0. 0. 0. 0.]\n",
      "\n",
      "----------------------------------------\n",
      "\n",
      "type(X_remaining[ 0 ]): <class 'numpy.ndarray'>\n",
      "X_remaining[ 0 ].dtype: float32\n",
      "X_remaining[ 0 ].min(): 0.0\n",
      "X_remaining[ 0 ].max(): 1.0\n",
      "X_remaining[ 0 ].shape = (HEIGHT*WIDTH,): (reshape=True),  (1024,)\n",
      "\n",
      "type(Y_remaining[ 0 ]): <class 'numpy.ndarray'>\n",
      "Y_remaining[ 0 ].dtype: float32\n",
      "Y_remaining[ 0 ].min(): 0.0\n",
      "Y_remaining[ 0 ].max(): 1.0\n",
      "Y_remaining[ 0 ]: (one_hot=True),  [0. 0. 0. 0. 1. 0. 0. 0. 0. 0.]\n",
      "\n"
     ]
    },
    {
     "data": {
      "image/png": "[encoded data removed]",
      "text/plain": [
       "<Figure size 432x288 with 1 Axes>"
      ]
     },
     "metadata": {},
     "output_type": "display_data"
    },
    {
     "name": "stdout",
     "output_type": "stream",
     "text": [
      "################################################################################\n",
      "\n"
     ]
    }
   ],
   "source": [
    "\n",
    "print('type(X_train[ 0 ]):', type(X_train[0]))\n",
    "print('X_train[ 0 ].dtype:', X_train[0].dtype)\n",
    "print('X_train[ 0 ].min():', X_train[0].min())\n",
    "print('X_train[ 0 ].max():', X_train[0].max())\n",
    "print('X_train[ 0 ].shape = (HEIGHT*WIDTH,): (reshape=True), ', X_train[0].shape)\n",
    "print()\n",
    "\n",
    "print('type(Y_train[ 0 ]):', type(Y_train[0]))\n",
    "print('Y_train[ 0 ].dtype:', Y_train[0].dtype)\n",
    "print('Y_train[ 0 ]: (one_hot=False), ', Y_train[0])\n",
    "print()\n",
    "\n",
    "fig.add_subplot(1, 3, 1)\n",
    "plt.title('Y_train[ 0 ] = ' + str(Y_train[0]))\n",
    "plt.imshow(X_train[0].reshape([32, 32]), cmap='gray')\n",
    "\n",
    "print('----------------------------------------')\n",
    "print()\n",
    "\n",
    "print('type(X_test[ 0 ]):', type(X_test[0]))\n",
    "print('X_test[ 0 ].dtype:', X_test[0].dtype)\n",
    "print('X_test[ 0 ].min():', X_test[0].min())\n",
    "print('X_test[ 0 ].max():', X_test[0].max())\n",
    "print('X_test[ 0 ].shape = (HEIGHT, WIDTH, CHANNEL): (reshape=False), ', X_test[0].shape)\n",
    "print()\n",
    "\n",
    "print('type(Y_test[ 0 ]):', type(Y_test[0]))\n",
    "print('Y_test[ 0 ].dtype:', Y_test[0].dtype)\n",
    "print('Y_test[ 0 ].min():', Y_test[0].min())\n",
    "print('Y_test[ 0 ].max():', Y_test[0].max())\n",
    "print('Y_test[ 0 ]: (one_hot=True), ', Y_test[0])\n",
    "print()\n",
    "\n",
    "fig.add_subplot(1, 3, 2)\n",
    "plt.title('Y_test[ 0 ] = ' + str(Y_test[0]))\n",
    "plt.imshow(X_test[0].reshape([32, 32]), cmap='gray')\n",
    "\n",
    "print('----------------------------------------')\n",
    "print()\n",
    "\n",
    "print('type(X_remaining[ 0 ]):', type(X_remaining[0]))\n",
    "print('X_remaining[ 0 ].dtype:', X_remaining[0].dtype)\n",
    "print('X_remaining[ 0 ].min():', X_remaining[0].min())\n",
    "print('X_remaining[ 0 ].max():', X_remaining[0].max())\n",
    "print('X_remaining[ 0 ].shape = (HEIGHT*WIDTH,): (reshape=True), ', X_remaining[0].shape)\n",
    "print()\n",
    "\n",
    "print('type(Y_remaining[ 0 ]):', type(Y_remaining[0]))\n",
    "print('Y_remaining[ 0 ].dtype:', Y_remaining[0].dtype)\n",
    "print('Y_remaining[ 0 ].min():', Y_remaining[0].min())\n",
    "print('Y_remaining[ 0 ].max():', Y_remaining[0].max())\n",
    "print('Y_remaining[ 0 ]: (one_hot=True), ', Y_remaining[0])\n",
    "print()\n",
    "\n",
    "fig.add_subplot(1, 3, 3)\n",
    "plt.title('Y_remaining[ 0 ] = ' + str(Y_remaining[0]))\n",
    "plt.imshow(X_remaining[0].reshape([32, 32]), cmap='gray')\n",
    "\n",
    "plt.show()\n",
    "\n",
    "print('################################################################################')\n",
    "print()\n"
   ]
  },
  {
   "cell_type": "code",
   "execution_count": 15,
   "metadata": {},
   "outputs": [],
   "source": [
    "from tensorflow.examples.tutorials.mnist import input_data\n",
    "#mnist = input_data.read_data_sets(\"MNST_data/\", one_hot=True)\n",
    "import numpy as np\n",
    "import tensorflow as tf\n",
    "from HodaDatasetReader import read_hoda_cdb#, read_hoda_dataset\n",
    "\n",
    "x = tf.placeholder(tf.float32, [None, 784])\n",
    "W = tf.Variable(tf.zeros([784, 10]))\n",
    "b = tf.Variable(tf.zeros([10]))\n",
    "y = tf.matmul(x, W) + b\n",
    "\n",
    "y_ = tf.placeholder(tf.float32, [None, 10])\n",
    "\n",
    "#improvements\n",
    "def weight_variable(shape):\n",
    "    initial = tf.truncated_normal(shape, stddev=0.1)\n",
    "    return tf.Variable(initial)\n",
    "\n",
    "def bias_variable(shape):\n",
    "    initial = tf.constant(0.1, shape=shape)\n",
    "    return tf.Variable(initial)\n",
    "\n",
    "def conv2d(x, W):\n",
    "    return tf.nn.conv2d(x, W, strides=[1,1,1,1], padding='SAME')\n",
    "\n",
    "def maxPoolLayer(x):\n",
    "    \"\"\"max-pooling\"\"\"\n",
    "    return tf.nn.max_pool(x, ksize=[1,2,2,1], strides=[1,2,2,1], padding='SAME')\n",
    "\n",
    "#keep_prob = tf.placeholder(tf.float32)\n",
    "#def dropout(x, keep_prob ):\n",
    "   # \"\"\"dropout\"\"\"\n",
    "    #return tf.nn.dropout(x, keep_prob)\n",
    "\n",
    "#layer 1\n",
    "W_conv1 = weight_variable([5,5,1,32])\n",
    "b_conv1 = bias_variable([32])\n",
    "\n",
    "x_image = tf.reshape(x, [-1, 28, 28, 1])\n",
    "\n",
    "h_conv1 = tf.nn.relu(conv2d(x_image, W_conv1) + b_conv1)\n",
    "h_pool1 = maxPoolLayer(h_conv1)\n",
    "\n",
    "#layer 2\n",
    "W_conv2 = weight_variable([5, 5, 32, 64])\n",
    "b_conv2 = bias_variable([64])\n",
    "\n",
    "h_conv2 = tf.nn.relu(conv2d(h_pool1, W_conv2) + b_conv2)\n",
    "h_pool2 = maxPoolLayer(h_conv2)\n",
    "\n",
    "#fully connected layer\n",
    "W_fc1 = weight_variable([3136, 1024])\n",
    "b_fc1 = bias_variable([1024])\n",
    "\n",
    "h_pool2_flat = tf.reshape(h_pool2, [-1, 3136])\n",
    "h_fc1 = tf.matmul(h_pool2_flat, W_fc1) + b_fc1\n",
    "h_fc1 = tf.nn.relu(h_fc1)\n",
    "y_conv = tf.matmul(h_fc1, weight_variable([1024, 10])) + bias_variable([10])\n",
    "h_fc1 = tf.nn.softmax(y_conv)\n",
    " \n",
    "#dropout\n",
    "#keep_prob = tf.placeholder(tf.float32)\n",
    "#h_fc1_drop = tf.nn.dropout(h_fc1, keep_prob)\n",
    "\n",
    "#readout, similar to softmax\n",
    " \n",
    " \n",
    "#dropout1 = dropout(h_fc1, keep_prob)\n",
    "\n",
    "\n",
    "#optimization\n",
    "cross_entropy = tf.reduce_mean(tf.nn.softmax_cross_entropy_with_logits_v2(labels=y_, logits=y_conv))\n",
    "\n"
   ]
  },
  {
   "cell_type": "code",
   "execution_count": 16,
   "metadata": {},
   "outputs": [],
   "source": [
    "#training\n",
    "#train_step = tf.train.AdamOptimizer(1e-4).minimize(cross_entropy)\n",
    "#correct = tf.equal(tf.argmax(y_conv, 1), tf.argmax(y_, 1))\n",
    "optimiser = tf.train.AdamOptimizer(1e-4).minimize(cross_entropy)\n",
    "correct_prediction = tf.equal(tf.argmax(y_conv, 1), tf.argmax(y_, 1))\n",
    "#evaluate\n",
    "#accuracy = tf.reduce_mean(tf.cast(correct, tf.float32))\n",
    "accuracy = tf.reduce_mean(tf.cast(correct_prediction, tf.float32))"
   ]
  },
  {
   "cell_type": "code",
   "execution_count": 81,
   "metadata": {
    "scrolled": true
   },
   "outputs": [
    {
     "name": "stdout",
     "output_type": "stream",
     "text": [
      "Data is read\n"
     ]
    }
   ],
   "source": [
    "#the session\n",
    "train_images, train_labels = read_hoda_cdb('Train 60000.cdb')\n",
    "print(\"Data is read\")\n",
    "init_op = tf.global_variables_initializer()\n"
   ]
  },
  {
   "cell_type": "code",
   "execution_count": 82,
   "metadata": {},
   "outputs": [
    {
     "data": {
      "text/plain": [
       "list"
      ]
     },
     "execution_count": 82,
     "metadata": {},
     "output_type": "execute_result"
    }
   ],
   "source": [
    "type(train_images)"
   ]
  },
  {
   "cell_type": "code",
   "execution_count": 85,
   "metadata": {},
   "outputs": [],
   "source": [
    "len(f)\n",
    "train_images=np.array(train_images)\n",
    "train_labels=np.array(train_labels)"
   ]
  },
  {
   "cell_type": "code",
   "execution_count": 87,
   "metadata": {},
   "outputs": [
    {
     "data": {
      "text/plain": [
       "(20, 21)"
      ]
     },
     "execution_count": 87,
     "metadata": {},
     "output_type": "execute_result"
    }
   ],
   "source": [
    "train_images[1].shape"
   ]
  },
  {
   "cell_type": "code",
   "execution_count": 76,
   "metadata": {},
   "outputs": [
    {
     "name": "stdout",
     "output_type": "stream",
     "text": [
      "Data is read\n"
     ]
    },
    {
     "ename": "TypeError",
     "evalue": "list indices must be integers or slices, not tuple",
     "output_type": "error",
     "traceback": [
      "\u001b[0;31m---------------------------------------------------------------------------\u001b[0m",
      "\u001b[0;31mTypeError\u001b[0m                                 Traceback (most recent call last)",
      "\u001b[0;32m<ipython-input-76-4f67f0471c3d>\u001b[0m in \u001b[0;36m<module>\u001b[0;34m()\u001b[0m\n\u001b[1;32m      9\u001b[0m \u001b[0;34m\u001b[0m\u001b[0m\n\u001b[1;32m     10\u001b[0m         \u001b[0mrandidx\u001b[0m \u001b[0;34m=\u001b[0m \u001b[0mnp\u001b[0m\u001b[0;34m.\u001b[0m\u001b[0mrandom\u001b[0m\u001b[0;34m.\u001b[0m\u001b[0mrandint\u001b[0m\u001b[0;34m(\u001b[0m\u001b[0mntrain\u001b[0m\u001b[0;34m,\u001b[0m \u001b[0msize\u001b[0m\u001b[0;34m=\u001b[0m\u001b[0;36m50\u001b[0m\u001b[0;34m)\u001b[0m\u001b[0;34m\u001b[0m\u001b[0m\n\u001b[0;32m---> 11\u001b[0;31m         \u001b[0mbatch_xs\u001b[0m \u001b[0;34m=\u001b[0m \u001b[0mtrain_images\u001b[0m\u001b[0;34m[\u001b[0m\u001b[0mrandidx\u001b[0m\u001b[0;34m,\u001b[0m \u001b[0;34m:\u001b[0m\u001b[0;34m]\u001b[0m\u001b[0;34m\u001b[0m\u001b[0m\n\u001b[0m\u001b[1;32m     12\u001b[0m         \u001b[0mbatch_ys\u001b[0m \u001b[0;34m=\u001b[0m \u001b[0mlables_shuffle\u001b[0m\u001b[0;34m[\u001b[0m\u001b[0mrandidx\u001b[0m\u001b[0;34m,\u001b[0m \u001b[0;34m:\u001b[0m\u001b[0;34m]\u001b[0m\u001b[0;34m\u001b[0m\u001b[0m\n\u001b[1;32m     13\u001b[0m         \u001b[0;31m# Fit training using batch data\u001b[0m\u001b[0;34m\u001b[0m\u001b[0;34m\u001b[0m\u001b[0m\n",
      "\u001b[0;31mTypeError\u001b[0m: list indices must be integers or slices, not tuple"
     ]
    }
   ],
   "source": [
    "print(\"Data is read\")\n",
    "ntrain =  10\n",
    "init_op = tf.global_variables_initializer()\n",
    "with tf.Session() as sess:\n",
    "    sess.run(init_op)\n",
    "    \n",
    "    for i in range(700):\n",
    "        #     batch = mnist.train.next_batch(50)\n",
    "         \n",
    "        randidx = np.random.randint(ntrain, size=50)\n",
    "        batch_xs = train_images[randidx, :]\n",
    "        batch_ys = lables_shuffle[randidx, :]   \n",
    "        # Fit training using batch data\n",
    "        sess.run(optimiser, feed_dict={x: batch_xs, y_: batch_ys})\n",
    "        \n",
    "\n",
    "        #data_shuffle = [i for i in train_images[1:10]]\n",
    "        #lables_shuffle = [i for i in train_labels[1:10]]\n",
    "        #cross_entropy.eval(feed_dict={x:[ i for i in train_images[1:5]],y_:[ i for i in lables_shuffle[1:5]]})\n",
    "        \n",
    "        print(lables_shuffle[0])\n",
    "        t=sess.run(cross_entropy ,feed_dict={x: [data_shuffle], y_: [lables_shuffle]})\n",
    "        print(t)\n",
    "        if i % 100==0:\n",
    "            #training_accuracy = accuracy.eval(feed_dict={x: batch[0], y_: batch[1] })\n",
    "            training_accuracy = accuracy.eval(feed_dict={x: data_shuffle[0], y_: lables_shuffl[0]})\n",
    "            print(\"step: %i   accuracy: %a\" % (i, training_accuracy))\n",
    "            #optimiser.run(feed_dict={x: batch[0], y_: batch[1]})\n",
    "            optimiser.run(feed_dict={x: [train_images], y_: [train_labels]})\n",
    "        #print(\"test accuracy: %s\" % accuracy.eval(feed_dict={x: mnist.test.images, y_: mnist.test.labels}))\n",
    "        #test_images, test_labels = read_hoda_cdb('Test 20000.cdb')\n",
    "\n",
    "       # print(\"test accuracy: %s\" % accuracy.eval(feed_dict={x: test_images, y_:test_labels}))"
   ]
  },
  {
   "cell_type": "code",
   "execution_count": 83,
   "metadata": {},
   "outputs": [
    {
     "ename": "TypeError",
     "evalue": "list indices must be integers or slices, not tuple",
     "output_type": "error",
     "traceback": [
      "\u001b[0;31m---------------------------------------------------------------------------\u001b[0m",
      "\u001b[0;31mTypeError\u001b[0m                                 Traceback (most recent call last)",
      "\u001b[0;32m<ipython-input-83-931c797d6e8a>\u001b[0m in \u001b[0;36m<module>\u001b[0;34m()\u001b[0m\n\u001b[1;32m      1\u001b[0m \u001b[0mrandidx\u001b[0m \u001b[0;34m=\u001b[0m \u001b[0mnp\u001b[0m\u001b[0;34m.\u001b[0m\u001b[0mrandom\u001b[0m\u001b[0;34m.\u001b[0m\u001b[0mrandint\u001b[0m\u001b[0;34m(\u001b[0m\u001b[0mntrain\u001b[0m\u001b[0;34m,\u001b[0m \u001b[0msize\u001b[0m\u001b[0;34m=\u001b[0m\u001b[0;36m50\u001b[0m\u001b[0;34m)\u001b[0m\u001b[0;34m\u001b[0m\u001b[0m\n\u001b[1;32m      2\u001b[0m \u001b[0mrandidx\u001b[0m\u001b[0;34m\u001b[0m\u001b[0m\n\u001b[0;32m----> 3\u001b[0;31m \u001b[0mbatch_xs\u001b[0m \u001b[0;34m=\u001b[0m \u001b[0mtrain_images\u001b[0m\u001b[0;34m[\u001b[0m\u001b[0mrandidx\u001b[0m\u001b[0;34m,\u001b[0m \u001b[0;34m:\u001b[0m\u001b[0;34m]\u001b[0m\u001b[0;34m\u001b[0m\u001b[0m\n\u001b[0m\u001b[1;32m      4\u001b[0m \u001b[0mbatch_xs\u001b[0m\u001b[0;34m[\u001b[0m\u001b[0;36m1\u001b[0m\u001b[0;34m]\u001b[0m\u001b[0;34m\u001b[0m\u001b[0m\n",
      "\u001b[0;31mTypeError\u001b[0m: list indices must be integers or slices, not tuple"
     ]
    }
   ],
   "source": [
    "randidx = np.random.randint(ntrain, size=50)\n",
    "randidx \n",
    "batch_xs = train_images[randidx, :]\n",
    "batch_xs[1]\n",
    "\n",
    "\n",
    "A = np.array(mean_data).mean(axis=0)"
   ]
  }
 ],
 "metadata": {
  "kernelspec": {
   "display_name": "Python 3",
   "language": "python",
   "name": "python3"
  },
  "language_info": {
   "codemirror_mode": {
    "name": "ipython",
    "version": 3
   },
   "file_extension": ".py",
   "mimetype": "text/x-python",
   "name": "python",
   "nbconvert_exporter": "python",
   "pygments_lexer": "ipython3",
   "version": "3.6.6"
  }
 },
 "nbformat": 4,
 "nbformat_minor": 2
}
